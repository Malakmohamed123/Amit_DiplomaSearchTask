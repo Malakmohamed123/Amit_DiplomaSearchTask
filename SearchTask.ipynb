{
  "nbformat": 4,
  "nbformat_minor": 0,
  "metadata": {
    "colab": {
      "name": "SearchTask.ipynb",
      "provenance": []
    },
    "kernelspec": {
      "name": "python3",
      "display_name": "Python 3"
    },
    "language_info": {
      "name": "python"
    }
  },
  "cells": [
    {
      "cell_type": "code",
      "execution_count": null,
      "metadata": {
        "id": "4ANsPTL17lCd"
      },
      "outputs": [],
      "source": [
        "import numpy as np"
      ]
    },
    {
      "cell_type": "code",
      "source": [
        ""
      ],
      "metadata": {
        "id": "XrhTM34D7sx0"
      },
      "execution_count": null,
      "outputs": []
    },
    {
      "cell_type": "markdown",
      "source": [
        "The tensordot() function calculates the dot product along specified axes of the array_like object.\n",
        "**Meaning**:It sums the product of a given two tensors a and b over the axes specified by a_axes and b_axes"
      ],
      "metadata": {
        "id": "lmcTnxg77z2f"
      }
    },
    {
      "cell_type": "code",
      "source": [
        "arr1 = np.arange(8).reshape(4,2)\n",
        "arr1"
      ],
      "metadata": {
        "colab": {
          "base_uri": "https://localhost:8080/"
        },
        "id": "5JiY4--_7tcE",
        "outputId": "4bdb1c9c-fbde-4365-85a3-2532bf764fa9"
      },
      "execution_count": 14,
      "outputs": [
        {
          "output_type": "execute_result",
          "data": {
            "text/plain": [
              "array([[0, 1],\n",
              "       [2, 3],\n",
              "       [4, 5],\n",
              "       [6, 7]])"
            ]
          },
          "metadata": {},
          "execution_count": 14
        }
      ]
    },
    {
      "cell_type": "code",
      "source": [
        "arr2 = np.arange(2,10).reshape(2,4)\n",
        "arr2"
      ],
      "metadata": {
        "colab": {
          "base_uri": "https://localhost:8080/"
        },
        "id": "13usCvG47t9Z",
        "outputId": "9c7f02fe-dd74-49c6-e0a6-e23c2c799778"
      },
      "execution_count": 15,
      "outputs": [
        {
          "output_type": "execute_result",
          "data": {
            "text/plain": [
              "array([[2, 3, 4, 5],\n",
              "       [6, 7, 8, 9]])"
            ]
          },
          "metadata": {},
          "execution_count": 15
        }
      ]
    },
    {
      "cell_type": "code",
      "source": [
        "tendot = np.tensordot(arr1, arr2, axes = ([1,0], [0,1]) )\n",
        "tendot"
      ],
      "metadata": {
        "colab": {
          "base_uri": "https://localhost:8080/"
        },
        "id": "5hKnKUOE7uV0",
        "outputId": "6d4596b9-fd89-4e9f-b064-825f793416bc"
      },
      "execution_count": 16,
      "outputs": [
        {
          "output_type": "execute_result",
          "data": {
            "text/plain": [
              "array(182)"
            ]
          },
          "metadata": {},
          "execution_count": 16
        }
      ]
    },
    {
      "cell_type": "code",
      "source": [
        ""
      ],
      "metadata": {
        "id": "iVrqqk247uqN"
      },
      "execution_count": null,
      "outputs": []
    },
    {
      "cell_type": "markdown",
      "source": [
        "The Third arguments means a single non-negative integer like scalar."
      ],
      "metadata": {
        "id": "jg5OuraDCUf5"
      }
    },
    {
      "cell_type": "code",
      "source": [
        "a = np.arange(8).reshape(4,2)\n",
        "a"
      ],
      "metadata": {
        "colab": {
          "base_uri": "https://localhost:8080/"
        },
        "id": "4JbZO7yyCh6p",
        "outputId": "d6bff849-219d-40e8-d015-bb4fde2ba5f9"
      },
      "execution_count": null,
      "outputs": [
        {
          "output_type": "execute_result",
          "data": {
            "text/plain": [
              "array([[0, 1],\n",
              "       [2, 3],\n",
              "       [4, 5],\n",
              "       [6, 7]])"
            ]
          },
          "metadata": {},
          "execution_count": 6
        }
      ]
    },
    {
      "cell_type": "code",
      "source": [
        "b = np.arange(2,10).reshape(2,4)\n",
        "b"
      ],
      "metadata": {
        "colab": {
          "base_uri": "https://localhost:8080/"
        },
        "id": "JXAMg_MbCrnu",
        "outputId": "7da23ed1-9b55-4106-e4bd-2cfd61f5701c"
      },
      "execution_count": 17,
      "outputs": [
        {
          "output_type": "execute_result",
          "data": {
            "text/plain": [
              "array([[2, 3, 4, 5],\n",
              "       [6, 7, 8, 9]])"
            ]
          },
          "metadata": {},
          "execution_count": 17
        }
      ]
    },
    {
      "cell_type": "code",
      "source": [
        "tensdot = np.tensordot(arr1, arr2, axes=1) #for calculating tensor dot product\n",
        "tensdot"
      ],
      "metadata": {
        "colab": {
          "base_uri": "https://localhost:8080/"
        },
        "id": "--1UlHJqCx1o",
        "outputId": "6467e26c-a8b5-4c8e-fbbc-e44c0cceb1d7"
      },
      "execution_count": 18,
      "outputs": [
        {
          "output_type": "execute_result",
          "data": {
            "text/plain": [
              "array([[ 6,  7,  8,  9],\n",
              "       [22, 27, 32, 37],\n",
              "       [38, 47, 56, 65],\n",
              "       [54, 67, 80, 93]])"
            ]
          },
          "metadata": {},
          "execution_count": 18
        }
      ]
    },
    {
      "cell_type": "markdown",
      "source": [
        "The difference between tensor product and tensor dot product is that the tensor product takes an element from the first array and multiple it to each element in the second array and so on (direct product of two vectors), while the tensor dot product combines two vectors into a scalar number \n"
      ],
      "metadata": {
        "id": "7P2EzXyfDFM6"
      }
    },
    {
      "cell_type": "code",
      "source": [
        "tensdot = np.tensordot(arr1, arr2, axes=0) #for calculating tensor product\n",
        "tensdot"
      ],
      "metadata": {
        "colab": {
          "base_uri": "https://localhost:8080/"
        },
        "id": "8VbUUq8CE05F",
        "outputId": "aa32eb69-ee16-44a0-a10c-5b6908aaf8ef"
      },
      "execution_count": 19,
      "outputs": [
        {
          "output_type": "execute_result",
          "data": {
            "text/plain": [
              "array([[[[ 0,  0,  0,  0],\n",
              "         [ 0,  0,  0,  0]],\n",
              "\n",
              "        [[ 2,  3,  4,  5],\n",
              "         [ 6,  7,  8,  9]]],\n",
              "\n",
              "\n",
              "       [[[ 4,  6,  8, 10],\n",
              "         [12, 14, 16, 18]],\n",
              "\n",
              "        [[ 6,  9, 12, 15],\n",
              "         [18, 21, 24, 27]]],\n",
              "\n",
              "\n",
              "       [[[ 8, 12, 16, 20],\n",
              "         [24, 28, 32, 36]],\n",
              "\n",
              "        [[10, 15, 20, 25],\n",
              "         [30, 35, 40, 45]]],\n",
              "\n",
              "\n",
              "       [[[12, 18, 24, 30],\n",
              "         [36, 42, 48, 54]],\n",
              "\n",
              "        [[14, 21, 28, 35],\n",
              "         [42, 49, 56, 63]]]])"
            ]
          },
          "metadata": {},
          "execution_count": 19
        }
      ]
    }
  ]
}